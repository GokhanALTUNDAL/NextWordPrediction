{
  "nbformat": 4,
  "nbformat_minor": 0,
  "metadata": {
    "colab": {
      "provenance": [],
      "machine_shape": "hm",
      "gpuType": "L4"
    },
    "kernelspec": {
      "name": "python3",
      "display_name": "Python 3"
    },
    "language_info": {
      "name": "python"
    },
    "accelerator": "GPU"
  },
  "cells": [
    {
      "cell_type": "markdown",
      "source": [
        "# 1. Gerekli Kütüphanelerin İçe Aktarılması:\n",
        "\n",
        "Bu bölümde, metin işleme, model oluşturma ve eğitim için gerekli kütüphaneler içe aktarılır"
      ],
      "metadata": {
        "id": "3wPjvHEW0AmR"
      }
    },
    {
      "cell_type": "code",
      "execution_count": null,
      "metadata": {
        "id": "KvuFVAc2z7D1"
      },
      "outputs": [],
      "source": [
        "import numpy as np\n",
        "import re\n",
        "from keras.preprocessing.text import Tokenizer\n",
        "from keras.utils import to_categorical\n",
        "from keras.preprocessing.sequence import pad_sequences\n",
        "from keras.models import Sequential, load_model\n",
        "from keras.layers import Embedding, LSTM, Dense, Dropout\n",
        "from keras.callbacks import ModelCheckpoint, EarlyStopping\n",
        "from keras.optimizers import Adam\n",
        "import matplotlib.pyplot as plt\n",
        "import ipywidgets as widgets\n",
        "from IPython.display import display\n"
      ]
    },
    {
      "cell_type": "markdown",
      "source": [
        "# 2. Veri Setinin Yüklenmesi ve Temizlenmesİ:\n",
        "\n",
        "file_path: Veri setinin dosya yolunu belirtir.\n",
        "\n",
        "Veri yükleme ve temizleme: Veriyi dosyadan okur, küçük harfe çevirir ve noktalama işaretlerini temizler"
      ],
      "metadata": {
        "id": "KDUemQPH0IpU"
      }
    },
    {
      "cell_type": "code",
      "source": [
        "file_path = '/content/trveriset.txt'\n",
        "\n",
        "with open(file_path, 'r', encoding='utf-8') as file:\n",
        "    data = file.read()\n",
        "\n",
        "data = data.lower()\n",
        "data = re.sub(r'[^\\w\\s]', '', data)\n"
      ],
      "metadata": {
        "id": "qzt4sJoF0UG8"
      },
      "execution_count": null,
      "outputs": []
    },
    {
      "cell_type": "markdown",
      "source": [
        "# 3. Tokenizer Oluşturma ve Veri Setine Fit Etme\n",
        "\n",
        "data.split('\\n'): Veriyi satırlara böler.\n",
        "\n",
        "Tokenizer: Kelimeleri sayısal değerlere dönüştürmek için kullanılır."
      ],
      "metadata": {
        "id": "zHfkRjWg0eVZ"
      }
    },
    {
      "cell_type": "code",
      "source": [
        "data = data.split('\\n')\n",
        "tokenizer = Tokenizer()\n",
        "tokenizer.fit_on_texts(data)\n"
      ],
      "metadata": {
        "id": "uP1TZffO0vTu"
      },
      "execution_count": null,
      "outputs": []
    },
    {
      "cell_type": "markdown",
      "source": [
        "# 4. Dizilere Çevirme ve Padding\n",
        "\n",
        "Kelime dizileri oluşturma: Her cümleyi sayısal değerlere dönüştürür.\n",
        "\n",
        "Padding: Tüm dizileri aynı uzunlukta yapar."
      ],
      "metadata": {
        "id": "4u0h1eih0yYt"
      }
    },
    {
      "cell_type": "code",
      "source": [
        "sequences = []\n",
        "for line in data:\n",
        "    encoded = tokenizer.texts_to_sequences([line])[0]\n",
        "    for i in range(1, len(encoded)):\n",
        "        sequence = encoded[:i+1]\n",
        "        sequences.append(sequence)\n",
        "\n",
        "max_length = max([len(seq) for seq in sequences])\n",
        "sequences = pad_sequences(sequences, maxlen=max_length, padding='pre')\n"
      ],
      "metadata": {
        "id": "E5oWDWjl05Bj"
      },
      "execution_count": null,
      "outputs": []
    },
    {
      "cell_type": "markdown",
      "source": [
        "# 5. Giriş (X) ve Çıkış (y) Değerlerini Ayırma\n",
        "\n",
        "X, y ayırma: Giriş ve çıkış verilerini ayırır.\n",
        "\n",
        "Kategorik dönüşüm: Çıkış verilerini kategorik formata çevirir."
      ],
      "metadata": {
        "id": "rD7pT4mS07X9"
      }
    },
    {
      "cell_type": "code",
      "source": [
        "sequences = np.array(sequences)\n",
        "X, y = sequences[:,:-1], sequences[:,-1]\n",
        "\n",
        "vocab_size = len(tokenizer.word_index) + 1\n",
        "y = to_categorical(y, num_classes=vocab_size)\n"
      ],
      "metadata": {
        "id": "VN9ekCdr1CdF"
      },
      "execution_count": null,
      "outputs": []
    },
    {
      "cell_type": "markdown",
      "source": [
        "# 6. Modeli Oluşturma ve Derleme\n",
        "\n",
        "Model katmanları: Embedding, LSTM ve Dropout katmanları eklenir.\n",
        "\n",
        "Model derleme: Model, categorical_crossentropy kaybı ve adam optimizer ile derlenir."
      ],
      "metadata": {
        "id": "Mwv6SgvP1HE5"
      }
    },
    {
      "cell_type": "code",
      "source": [
        "model = Sequential()\n",
        "model.add(Embedding(vocab_size, 100, input_length=max_length-1))\n",
        "model.add(LSTM(150, return_sequences=True))\n",
        "model.add(Dropout(0.2))\n",
        "model.add(LSTM(150))\n",
        "model.add(Dropout(0.2))\n",
        "model.add(Dense(vocab_size, activation='softmax'))\n",
        "\n",
        "optimizer = Adam(learning_rate=0.001)\n",
        "model.compile(loss='categorical_crossentropy', optimizer=optimizer, metrics=['accuracy'])\n",
        "\n",
        "model.summary()\n"
      ],
      "metadata": {
        "id": "C7HMniRy1TLQ"
      },
      "execution_count": null,
      "outputs": []
    },
    {
      "cell_type": "markdown",
      "source": [
        "# 7. Callbacks Tanımlama\n",
        "\n",
        "ModelCheckpoint: En iyi modeli kaydeder.\n",
        "\n",
        "EarlyStopping: Eğitim sırasında kaybın iyileşmediği durumlarda erken durdurma sağlar."
      ],
      "metadata": {
        "id": "5EnnxIQF1UST"
      }
    },
    {
      "cell_type": "code",
      "source": [
        "checkpoint = ModelCheckpoint('model.h5', monitor='loss', verbose=1, save_best_only=True, mode='min')\n",
        "early_stopping = EarlyStopping(monitor='loss', patience=10)\n",
        "callbacks_list = [checkpoint, early_stopping]\n"
      ],
      "metadata": {
        "id": "1AHD4m0Y1ZHK"
      },
      "execution_count": null,
      "outputs": []
    },
    {
      "cell_type": "markdown",
      "source": [
        "# 8. Modeli Eğitme ve Eğitim Geçmişini Kaydetme\n",
        "\n",
        "Model eğitimi: Modeli eğitim verileri üzerinde eğitir ve eğitim geçmişini history nesnesine kaydeder.\n"
      ],
      "metadata": {
        "id": "kw-G9f1S1blf"
      }
    },
    {
      "cell_type": "code",
      "source": [
        "history = model.fit(X, y, epochs=250, batch_size=128, callbacks=callbacks_list)\n"
      ],
      "metadata": {
        "id": "VCRezf5U1cPm"
      },
      "execution_count": null,
      "outputs": []
    },
    {
      "cell_type": "markdown",
      "source": [
        "# 9. Eğitim Sonuçlarını Görselleştirme\n",
        "\n",
        "Grafikler: Eğitim sürecindeki kayıp ve doğruluk değerlerini grafik olarak çizer."
      ],
      "metadata": {
        "id": "4eQOycBH1iER"
      }
    },
    {
      "cell_type": "code",
      "source": [
        "plt.figure(figsize=(12, 4))\n",
        "\n",
        "plt.subplot(1, 2, 1)\n",
        "plt.plot(history.history['loss'], label='Eğitim Kaybı')\n",
        "plt.title('Eğitim Kaybı')\n",
        "plt.xlabel('Epoch')\n",
        "plt.ylabel('Kayıp')\n",
        "plt.legend()\n",
        "\n",
        "plt.subplot(1, 2, 2)\n",
        "plt.plot(history.history['accuracy'], label='Eğitim Doğruluğu')\n",
        "plt.title('Eğitim Doğruluğu')\n",
        "plt.xlabel('Epoch')\n",
        "plt.ylabel('Doğruluk')\n",
        "plt.legend()\n",
        "\n",
        "plt.show()\n"
      ],
      "metadata": {
        "id": "PRXZBJxR1icd"
      },
      "execution_count": null,
      "outputs": []
    },
    {
      "cell_type": "markdown",
      "source": [
        "# 10. Tahmin Fonksiyonu\n",
        "\n",
        "generate_text: Girilen metni tamamlamak için modelin tahmin ettiği kelimeleri ekler."
      ],
      "metadata": {
        "id": "vL69U7cu1r_D"
      }
    },
    {
      "cell_type": "code",
      "source": [
        "def generate_text(model, tokenizer, text, num_words_to_predict=1):\n",
        "    for _ in range(num_words_to_predict):\n",
        "        encoded = tokenizer.texts_to_sequences([text])[0]\n",
        "        encoded = pad_sequences([encoded], maxlen=max_length-1, padding='pre')\n",
        "\n",
        "        y_pred = model.predict(encoded, verbose=0)\n",
        "        predicted_word = tokenizer.index_word[np.argmax(y_pred)]\n",
        "\n",
        "        text += ' ' + predicted_word\n",
        "\n",
        "        if predicted_word == 'end':\n",
        "            break\n",
        "\n",
        "    return text\n"
      ],
      "metadata": {
        "id": "_d8J0iT21sab"
      },
      "execution_count": null,
      "outputs": []
    },
    {
      "cell_type": "markdown",
      "source": [
        "# 11. Arayüz Bileşenleri\n",
        "\n",
        "Arayüz bileşenleri: Kullanıcı girişi ve modelin tahminlerini göstermek için arayüz bileşenleri oluşturulur.\n"
      ],
      "metadata": {
        "id": "y0WvzGnb10Ov"
      }
    },
    {
      "cell_type": "code",
      "source": [
        "text_box = widgets.Text(\n",
        "    value='',\n",
        "    placeholder='Eksik cümlenizi buraya yazın',\n",
        "    description='Cümle:',\n",
        "    disabled=False\n",
        ")\n",
        "\n",
        "output_label = widgets.Label(value='Tamamlanmış cümle burada görünecek')\n",
        "\n",
        "word_count_slider = widgets.IntSlider(\n",
        "    value=1,\n",
        "    min=1,\n",
        "    max=10,\n",
        "    step=1,\n",
        "    description='Kelime Sayısı:',\n",
        "    continuous_update=False\n",
        ")\n",
        "\n",
        "button = widgets.Button(\n",
        "    description='Tahmin Et',\n",
        "    disabled=False,\n",
        "    button_style='',\n",
        "    tooltip='Tahmin Et',\n",
        "    icon='check'\n",
        ")\n"
      ],
      "metadata": {
        "id": "HirBvFrH10nz"
      },
      "execution_count": null,
      "outputs": []
    },
    {
      "cell_type": "markdown",
      "source": [
        "# 12. Buton Tıklama Olayı Ve Arayüzü Görüntüleme\n",
        "\n",
        "Buton olayı: Butona tıklandığında tahmin fonksiyonu çalıştırılır ve sonuç gösterilir\n",
        "\n",
        "Arayüzü göster: Arayüz bileşenlerini ekranda gösterir.\n"
      ],
      "metadata": {
        "id": "UfqpbcvH19eO"
      }
    },
    {
      "cell_type": "code",
      "source": [
        "def on_button_click(b):\n",
        "    input_text = text_box.value\n",
        "    num_words_to_predict = word_count_slider.value\n",
        "    if input_text.strip():\n",
        "        completed_text = generate_text(model, tokenizer, input_text, num_words_to_predict)\n",
        "        output_label.value = f\"Tahmin Edilen Cümle: {completed_text}\"\n",
        "        text_box.value = completed_text\n",
        "\n",
        "button.on_click(on_button_click)\n",
        "\n",
        "# Arayüzü görüntüle\n",
        "display(text_box, word_count_slider, button, output_label)\n"
      ],
      "metadata": {
        "id": "CLM-gzoF190F"
      },
      "execution_count": null,
      "outputs": []
    }
  ]
}